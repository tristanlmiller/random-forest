{
 "cells": [
  {
   "cell_type": "markdown",
   "metadata": {},
   "source": [
    "# Random Forest demo\n",
    "This is a demo for my random forest algorithm.  I'm using a very small data set, so the predictions will not be very good, but it will at least demonstrate how to use the algorithm."
   ]
  },
  {
   "cell_type": "code",
   "execution_count": 1,
   "metadata": {
    "collapsed": true
   },
   "outputs": [],
   "source": [
    "import pandas as pd\n",
    "import numpy as np\n",
    "import sys\n",
    "import random"
   ]
  },
  {
   "cell_type": "markdown",
   "metadata": {},
   "source": [
    "## Demo data\n",
    "I've included a small set of demo data, not really enough to produce a good model, but enough to demonstrate the potential of the algorithm.  This comes from a physical source, so that the labels should be predictable, but I've anonymized the data to obscure the data's meaning.  There are 500 entries with 40 features each, and one label.  About 80% of the labels are zeros, and 20% are ones."
   ]
  },
  {
   "cell_type": "code",
   "execution_count": 2,
   "metadata": {
    "collapsed": false
   },
   "outputs": [],
   "source": [
    "data = pd.read_pickle(\"demo_data.pkl\")"
   ]
  },
  {
   "cell_type": "code",
   "execution_count": 4,
   "metadata": {
    "collapsed": false
   },
   "outputs": [
    {
     "name": "stdout",
     "output_type": "stream",
     "text": [
      "(500, 41)\n"
     ]
    }
   ],
   "source": [
    "#Data includes 500 entries, 40 feature columns, and 1 label column\n",
    "print(data.shape)"
   ]
  },
  {
   "cell_type": "code",
   "execution_count": 3,
   "metadata": {
    "collapsed": false
   },
   "outputs": [
    {
     "data": {
      "text/html": [
       "<div>\n",
       "<style scoped>\n",
       "    .dataframe tbody tr th:only-of-type {\n",
       "        vertical-align: middle;\n",
       "    }\n",
       "\n",
       "    .dataframe tbody tr th {\n",
       "        vertical-align: top;\n",
       "    }\n",
       "\n",
       "    .dataframe thead th {\n",
       "        text-align: right;\n",
       "    }\n",
       "</style>\n",
       "<table border=\"1\" class=\"dataframe\">\n",
       "  <thead>\n",
       "    <tr style=\"text-align: right;\">\n",
       "      <th></th>\n",
       "      <th>feature 0</th>\n",
       "      <th>feature 1</th>\n",
       "      <th>feature 2</th>\n",
       "      <th>feature 3</th>\n",
       "      <th>feature 4</th>\n",
       "      <th>feature 5</th>\n",
       "      <th>feature 6</th>\n",
       "      <th>feature 7</th>\n",
       "      <th>feature 8</th>\n",
       "      <th>feature 9</th>\n",
       "      <th>...</th>\n",
       "      <th>feature 31</th>\n",
       "      <th>feature 32</th>\n",
       "      <th>feature 33</th>\n",
       "      <th>feature 34</th>\n",
       "      <th>feature 35</th>\n",
       "      <th>feature 36</th>\n",
       "      <th>feature 37</th>\n",
       "      <th>feature 38</th>\n",
       "      <th>feature 39</th>\n",
       "      <th>label</th>\n",
       "    </tr>\n",
       "  </thead>\n",
       "  <tbody>\n",
       "    <tr>\n",
       "      <th>0</th>\n",
       "      <td>1860.0</td>\n",
       "      <td>42.0</td>\n",
       "      <td>3</td>\n",
       "      <td>15</td>\n",
       "      <td>139</td>\n",
       "      <td>6146.0</td>\n",
       "      <td>8.60839</td>\n",
       "      <td>0.000</td>\n",
       "      <td>-4.927546</td>\n",
       "      <td>-4.117362</td>\n",
       "      <td>...</td>\n",
       "      <td>15</td>\n",
       "      <td>0</td>\n",
       "      <td>0</td>\n",
       "      <td>0</td>\n",
       "      <td>0</td>\n",
       "      <td>3</td>\n",
       "      <td>51</td>\n",
       "      <td>6</td>\n",
       "      <td>14.0</td>\n",
       "      <td>1.0</td>\n",
       "    </tr>\n",
       "    <tr>\n",
       "      <th>1</th>\n",
       "      <td>4300.0</td>\n",
       "      <td>33.0</td>\n",
       "      <td>12</td>\n",
       "      <td>14</td>\n",
       "      <td>76</td>\n",
       "      <td>7140.0</td>\n",
       "      <td>11.26030</td>\n",
       "      <td>4.496</td>\n",
       "      <td>-1.240000</td>\n",
       "      <td>-9.209714</td>\n",
       "      <td>...</td>\n",
       "      <td>4</td>\n",
       "      <td>0</td>\n",
       "      <td>0</td>\n",
       "      <td>0</td>\n",
       "      <td>0</td>\n",
       "      <td>2</td>\n",
       "      <td>6</td>\n",
       "      <td>4</td>\n",
       "      <td>43.0</td>\n",
       "      <td>0.0</td>\n",
       "    </tr>\n",
       "    <tr>\n",
       "      <th>2</th>\n",
       "      <td>4273.0</td>\n",
       "      <td>320.0</td>\n",
       "      <td>12</td>\n",
       "      <td>13</td>\n",
       "      <td>84</td>\n",
       "      <td>8650.0</td>\n",
       "      <td>8.29802</td>\n",
       "      <td>1.524</td>\n",
       "      <td>-0.812174</td>\n",
       "      <td>-6.677698</td>\n",
       "      <td>...</td>\n",
       "      <td>3</td>\n",
       "      <td>0</td>\n",
       "      <td>0</td>\n",
       "      <td>0</td>\n",
       "      <td>0</td>\n",
       "      <td>1</td>\n",
       "      <td>5</td>\n",
       "      <td>5</td>\n",
       "      <td>19.0</td>\n",
       "      <td>0.0</td>\n",
       "    </tr>\n",
       "    <tr>\n",
       "      <th>3</th>\n",
       "      <td>3675.0</td>\n",
       "      <td>48.0</td>\n",
       "      <td>5</td>\n",
       "      <td>3</td>\n",
       "      <td>187</td>\n",
       "      <td>6110.0</td>\n",
       "      <td>5.42586</td>\n",
       "      <td>0.000</td>\n",
       "      <td>-8.939261</td>\n",
       "      <td>-4.523000</td>\n",
       "      <td>...</td>\n",
       "      <td>17</td>\n",
       "      <td>9</td>\n",
       "      <td>0</td>\n",
       "      <td>0</td>\n",
       "      <td>14</td>\n",
       "      <td>0</td>\n",
       "      <td>71</td>\n",
       "      <td>4</td>\n",
       "      <td>47.0</td>\n",
       "      <td>0.0</td>\n",
       "    </tr>\n",
       "    <tr>\n",
       "      <th>4</th>\n",
       "      <td>887.0</td>\n",
       "      <td>22.0</td>\n",
       "      <td>10</td>\n",
       "      <td>15</td>\n",
       "      <td>119</td>\n",
       "      <td>8908.0</td>\n",
       "      <td>9.78860</td>\n",
       "      <td>0.000</td>\n",
       "      <td>-5.546325</td>\n",
       "      <td>-4.650889</td>\n",
       "      <td>...</td>\n",
       "      <td>15</td>\n",
       "      <td>0</td>\n",
       "      <td>0</td>\n",
       "      <td>0</td>\n",
       "      <td>0</td>\n",
       "      <td>3</td>\n",
       "      <td>33</td>\n",
       "      <td>4</td>\n",
       "      <td>76.0</td>\n",
       "      <td>0.0</td>\n",
       "    </tr>\n",
       "  </tbody>\n",
       "</table>\n",
       "<p>5 rows × 41 columns</p>\n",
       "</div>"
      ],
      "text/plain": [
       "   feature 0  feature 1  feature 2  feature 3  feature 4  feature 5  \\\n",
       "0     1860.0       42.0          3         15        139     6146.0   \n",
       "1     4300.0       33.0         12         14         76     7140.0   \n",
       "2     4273.0      320.0         12         13         84     8650.0   \n",
       "3     3675.0       48.0          5          3        187     6110.0   \n",
       "4      887.0       22.0         10         15        119     8908.0   \n",
       "\n",
       "   feature 6  feature 7  feature 8  feature 9  ...  feature 31  feature 32  \\\n",
       "0    8.60839      0.000  -4.927546  -4.117362  ...          15           0   \n",
       "1   11.26030      4.496  -1.240000  -9.209714  ...           4           0   \n",
       "2    8.29802      1.524  -0.812174  -6.677698  ...           3           0   \n",
       "3    5.42586      0.000  -8.939261  -4.523000  ...          17           9   \n",
       "4    9.78860      0.000  -5.546325  -4.650889  ...          15           0   \n",
       "\n",
       "   feature 33  feature 34  feature 35  feature 36  feature 37  feature 38  \\\n",
       "0           0           0           0           3          51           6   \n",
       "1           0           0           0           2           6           4   \n",
       "2           0           0           0           1           5           5   \n",
       "3           0           0          14           0          71           4   \n",
       "4           0           0           0           3          33           4   \n",
       "\n",
       "   feature 39  label  \n",
       "0        14.0    1.0  \n",
       "1        43.0    0.0  \n",
       "2        19.0    0.0  \n",
       "3        47.0    0.0  \n",
       "4        76.0    0.0  \n",
       "\n",
       "[5 rows x 41 columns]"
      ]
     },
     "execution_count": 3,
     "metadata": {},
     "output_type": "execute_result"
    }
   ],
   "source": [
    "data.head()"
   ]
  },
  {
   "cell_type": "code",
   "execution_count": 11,
   "metadata": {
    "collapsed": false
   },
   "outputs": [],
   "source": [
    "#I will separate the data into training data, with 450 rows, and test data, with 50 rows.\n",
    "subset = np.random.choice(range(500),50,replace=False)\n",
    "test_data = data.iloc[subset]\n",
    "train_data = data.drop(index=subset,axis=0)"
   ]
  },
  {
   "cell_type": "markdown",
   "metadata": {},
   "source": [
    "## Single trees\n",
    "The user is not intended to grow single trees (since they just get overtrained very quickly), but it may be instructive to show how a single tree is grown."
   ]
  },
  {
   "cell_type": "code",
   "execution_count": 15,
   "metadata": {
    "collapsed": false
   },
   "outputs": [],
   "source": [
    "#load decisionTrees module\n",
    "if 'decisionTrees' in sys.modules:\n",
    "    del sys.modules['decisionTrees']\n",
    "from decisionTrees import *"
   ]
  },
  {
   "cell_type": "code",
   "execution_count": 60,
   "metadata": {
    "collapsed": false
   },
   "outputs": [],
   "source": [
    "#initialize the tree, telling it which columns are features, and which one is the label\n",
    "single_tree = decision_tree(train_data,range(40),40)"
   ]
  },
  {
   "cell_type": "code",
   "execution_count": 61,
   "metadata": {
    "collapsed": false
   },
   "outputs": [
    {
     "name": "stdout",
     "output_type": "stream",
     "text": [
      "Leaf 0 produces children using column 1.\n",
      "incorrect guesses in this branch: 107 before; 105 after\n",
      "Leaf 0 produces children using column 26.\n",
      "incorrect guesses in this branch: 102 before; 101 after\n",
      "Leaf 2 produces children using column 31.\n",
      "incorrect guesses in this branch: 96 before; 95 after\n",
      "Leaf 2 produces children using column 18 (chosen at random).\n",
      "incorrect guesses in this branch: 84 before; 84 after\n",
      "Leaf 2 produces children using column 29 (chosen at random).\n",
      "incorrect guesses in this branch: 81 before; 81 after\n"
     ]
    }
   ],
   "source": [
    "#Watch the tree grow 5 leaves.\n",
    "single_tree.verbose = True\n",
    "single_tree.grow_tree(train_data,5,0)"
   ]
  },
  {
   "cell_type": "markdown",
   "metadata": {},
   "source": [
    "An explanation:\n",
    "\n",
    "At each iteration, the tree determines which leave makes the most incorrect predictions, and tells that leaf to produce new children.  The leaf selects the column using a greedy algorithm to maximize correct predictions, and produces children using that column.  If predictions cannot be improved, then the leaf chooses a column at random.  (As you can see, not much improvement is made in the first five iterations.)"
   ]
  },
  {
   "cell_type": "code",
   "execution_count": 62,
   "metadata": {
    "collapsed": false
   },
   "outputs": [
    {
     "name": "stdout",
     "output_type": "stream",
     "text": [
      "[[1,[[[0,0],0],1]],1]\n",
      "Accuracy on training data: 0.77\n",
      "Accuracy on test data: 0.78\n"
     ]
    }
   ],
   "source": [
    "#You can also print out the tree structure.\n",
    "#Each leaf is labeled a \"0\" or \"1\" depending on how it classifies data points that reach that leaf of the tree\n",
    "#as you can see, the tree does not try to be balanced.\n",
    "print(single_tree.root.summarize())\n",
    "\n",
    "#And you can evaluate how well the decision tree makes predictions (not very well)\n",
    "print('Accuracy on training data: %.2f' % single_tree.evaluate(train_data))\n",
    "print('Accuracy on test data: %.2f' % single_tree.evaluate(test_data))"
   ]
  },
  {
   "cell_type": "code",
   "execution_count": 65,
   "metadata": {
    "collapsed": false
   },
   "outputs": [
    {
     "name": "stdout",
     "output_type": "stream",
     "text": [
      "[[[1,0],[[[[[0,1],[[[[[[[[[0,1],0],0],1],[0,1]],[1,[[0,1],[0,0]]]],1],[1,0]],[[[[[[[[1,0],[1,[0,0]]],[1,0]],0],1],[[0,1],0]],1],[1,0]]]],[[0,1],[[0,[1,0]],[[[[[0,[1,0]],1],[0,[0,1]]],1],1]]]],[[0,0],0]],[0,[0,1]]]],[0,1]]\n",
      "Accuracy on training data: 0.92\n",
      "Accuracy on test data: 0.74\n"
     ]
    }
   ],
   "source": [
    "#Show what happens after 50 more iterations\n",
    "single_tree.verbose = False\n",
    "single_tree.grow_tree(train_data,50,0)\n",
    "print(single_tree.root.summarize())\n",
    "print('Accuracy on training data: %.2f' % single_tree.evaluate(train_data))\n",
    "print('Accuracy on test data: %.2f' % single_tree.evaluate(test_data))"
   ]
  },
  {
   "cell_type": "markdown",
   "metadata": {},
   "source": [
    "# Random forest testing\n",
    "Now let's show how a whole forest is grown.  Each tree is given a random subset of rows (selected with replacement) and a random subset of feature columns."
   ]
  },
  {
   "cell_type": "code",
   "execution_count": 88,
   "metadata": {
    "collapsed": false
   },
   "outputs": [],
   "source": [
    "#See the readme for details on these arguments\n",
    "#This forest will grow trees, each given 5 features and 50 iterations, and keep on growing trees until 1 minute has passed.\n",
    "forest = random_forest(range(40),40,50,0,5,1)"
   ]
  },
  {
   "cell_type": "code",
   "execution_count": 89,
   "metadata": {
    "collapsed": false
   },
   "outputs": [
    {
     "name": "stdout",
     "output_type": "stream",
     "text": [
      "Forest planted in 1.02 minutes.  14 trees grown with 50 iterations and 5 features.\n",
      "Accuracy: 0.880\n"
     ]
    }
   ],
   "source": [
    "#train the forest, and then show how well it performs on the test data\n",
    "forest.train_valid(train_data,test_data)"
   ]
  },
  {
   "cell_type": "code",
   "execution_count": 90,
   "metadata": {
    "collapsed": false
   },
   "outputs": [
    {
     "name": "stdout",
     "output_type": "stream",
     "text": [
      "[[0.14 0.06]\n",
      " [0.06 0.74]]\n"
     ]
    }
   ],
   "source": [
    "#We can also print out the confusion matrix\n",
    "print(forest.confusion(test_data))"
   ]
  },
  {
   "cell_type": "code",
   "execution_count": 91,
   "metadata": {
    "collapsed": false
   },
   "outputs": [
    {
     "name": "stdout",
     "output_type": "stream",
     "text": [
      "Row 0: Actual label: 0, Predicted label: 0\n",
      "Row 1: Actual label: 0, Predicted label: 0\n",
      "Row 2: Actual label: 0, Predicted label: 0\n",
      "Row 3: Actual label: 0, Predicted label: 0\n",
      "Row 4: Actual label: 0, Predicted label: 0\n",
      "Row 5: Actual label: 0, Predicted label: 0\n",
      "Row 6: Actual label: 0, Predicted label: 0\n",
      "Row 7: Actual label: 0, Predicted label: 0\n",
      "Row 8: Actual label: 1, Predicted label: 1\n",
      "Row 9: Actual label: 0, Predicted label: 0\n"
     ]
    }
   ],
   "source": [
    "#or we can just print out the predicted labels\n",
    "pred_labels = forest.predict_labels(test_data)\n",
    "for i in range(10):\n",
    "    print(\"Row %i: Actual label: %i, Predicted label: %i\" % (i, test_data['label'].iloc[i], pred_labels[i]))"
   ]
  },
  {
   "cell_type": "code",
   "execution_count": 94,
   "metadata": {
    "collapsed": false
   },
   "outputs": [
    {
     "name": "stdout",
     "output_type": "stream",
     "text": [
      "0.78\n"
     ]
    }
   ],
   "source": [
    "#You can also retrieve information about any particular tree\n",
    "print(forest.forest[0].evaluate(test_data))"
   ]
  },
  {
   "cell_type": "markdown",
   "metadata": {},
   "source": [
    "# Hyperparameter tuning\n",
    "While I did not write a framework for tuning hyperparameters, most of the tools are already there!  In particular, the forest will train for a fixed amount of time, so that you can figure out what hyperparameters are most effective given your available computing resources.\n",
    "\n",
    "Here I use a simple search to determine whether it's better to grow more trees, or to have more iterations per tree."
   ]
  },
  {
   "cell_type": "code",
   "execution_count": 95,
   "metadata": {
    "collapsed": false
   },
   "outputs": [
    {
     "name": "stdout",
     "output_type": "stream",
     "text": [
      "Forest planted in 1.01 minutes.  27 trees grown with 20 iterations and 5 features.\n",
      "Forest planted in 1.06 minutes.  17 trees grown with 40 iterations and 5 features.\n",
      "Forest planted in 1.03 minutes.  12 trees grown with 60 iterations and 5 features.\n",
      "Forest planted in 1.04 minutes.  10 trees grown with 80 iterations and 5 features.\n"
     ]
    }
   ],
   "source": [
    "#note: this takes about 4 minutes to run\n",
    "forest_grid = []\n",
    "sim_index = 0\n",
    "sim_results = pd.DataFrame(np.zeros((4,9)),columns=[\n",
    "        'Iterations','Features','Trees','Runtime','accuracy','cmatrix_00','cmatrix_01','cmatrix_10','cmatrix_11'])\n",
    "for i in range(4):\n",
    "    forest = random_forest(range(40),40,i*20+20,0,5,1)\n",
    "    forest_grid.append(forest)\n",
    "    forest.train(train_data)\n",
    "    sim_results.iloc[i,0] = forest.num_iter\n",
    "    sim_results.iloc[i,1] = forest.num_features\n",
    "    sim_results.iloc[i,2] = forest.num_trees\n",
    "    sim_results.iloc[i,3] = forest.runtime\n",
    "    c_matrix = forest.confusion(test_data)\n",
    "    sim_results.iloc[i,4] = c_matrix.trace()\n",
    "    sim_results.iloc[i,5] = c_matrix[0,0]\n",
    "    sim_results.iloc[i,6] = c_matrix[0,1]\n",
    "    sim_results.iloc[i,7] = c_matrix[1,0]\n",
    "    sim_results.iloc[i,8] = c_matrix[1,1]"
   ]
  },
  {
   "cell_type": "code",
   "execution_count": 97,
   "metadata": {
    "collapsed": false,
    "scrolled": true
   },
   "outputs": [
    {
     "data": {
      "text/html": [
       "<div>\n",
       "<style scoped>\n",
       "    .dataframe tbody tr th:only-of-type {\n",
       "        vertical-align: middle;\n",
       "    }\n",
       "\n",
       "    .dataframe tbody tr th {\n",
       "        vertical-align: top;\n",
       "    }\n",
       "\n",
       "    .dataframe thead th {\n",
       "        text-align: right;\n",
       "    }\n",
       "</style>\n",
       "<table border=\"1\" class=\"dataframe\">\n",
       "  <thead>\n",
       "    <tr style=\"text-align: right;\">\n",
       "      <th></th>\n",
       "      <th>Iterations</th>\n",
       "      <th>Features</th>\n",
       "      <th>Trees</th>\n",
       "      <th>Runtime</th>\n",
       "      <th>accuracy</th>\n",
       "      <th>cmatrix_00</th>\n",
       "      <th>cmatrix_01</th>\n",
       "      <th>cmatrix_10</th>\n",
       "      <th>cmatrix_11</th>\n",
       "    </tr>\n",
       "  </thead>\n",
       "  <tbody>\n",
       "    <tr>\n",
       "      <th>0</th>\n",
       "      <td>20.0</td>\n",
       "      <td>5.0</td>\n",
       "      <td>27.0</td>\n",
       "      <td>1.012335</td>\n",
       "      <td>0.76</td>\n",
       "      <td>0.06</td>\n",
       "      <td>0.14</td>\n",
       "      <td>0.10</td>\n",
       "      <td>0.70</td>\n",
       "    </tr>\n",
       "    <tr>\n",
       "      <th>1</th>\n",
       "      <td>40.0</td>\n",
       "      <td>5.0</td>\n",
       "      <td>17.0</td>\n",
       "      <td>1.058252</td>\n",
       "      <td>0.76</td>\n",
       "      <td>0.06</td>\n",
       "      <td>0.14</td>\n",
       "      <td>0.10</td>\n",
       "      <td>0.70</td>\n",
       "    </tr>\n",
       "    <tr>\n",
       "      <th>2</th>\n",
       "      <td>60.0</td>\n",
       "      <td>5.0</td>\n",
       "      <td>12.0</td>\n",
       "      <td>1.027268</td>\n",
       "      <td>0.84</td>\n",
       "      <td>0.08</td>\n",
       "      <td>0.12</td>\n",
       "      <td>0.04</td>\n",
       "      <td>0.76</td>\n",
       "    </tr>\n",
       "    <tr>\n",
       "      <th>3</th>\n",
       "      <td>80.0</td>\n",
       "      <td>5.0</td>\n",
       "      <td>10.0</td>\n",
       "      <td>1.041018</td>\n",
       "      <td>0.76</td>\n",
       "      <td>0.06</td>\n",
       "      <td>0.14</td>\n",
       "      <td>0.10</td>\n",
       "      <td>0.70</td>\n",
       "    </tr>\n",
       "  </tbody>\n",
       "</table>\n",
       "</div>"
      ],
      "text/plain": [
       "   Iterations  Features  Trees   Runtime  accuracy  cmatrix_00  cmatrix_01  \\\n",
       "0        20.0       5.0   27.0  1.012335      0.76        0.06        0.14   \n",
       "1        40.0       5.0   17.0  1.058252      0.76        0.06        0.14   \n",
       "2        60.0       5.0   12.0  1.027268      0.84        0.08        0.12   \n",
       "3        80.0       5.0   10.0  1.041018      0.76        0.06        0.14   \n",
       "\n",
       "   cmatrix_10  cmatrix_11  \n",
       "0        0.10        0.70  \n",
       "1        0.10        0.70  \n",
       "2        0.04        0.76  \n",
       "3        0.10        0.70  "
      ]
     },
     "execution_count": 97,
     "metadata": {},
     "output_type": "execute_result"
    }
   ],
   "source": [
    "sim_results"
   ]
  },
  {
   "cell_type": "markdown",
   "metadata": {},
   "source": [
    "As you can see, the forest that performed best was the one that grew each tree with 60 iterations.  (Of course, this result should not be taken too seriously, given the very small test data set and short runtime.)"
   ]
  }
 ],
 "metadata": {
  "anaconda-cloud": {},
  "kernelspec": {
   "display_name": "Python [Anaconda3]",
   "language": "python",
   "name": "Python [Anaconda3]"
  },
  "language_info": {
   "codemirror_mode": {
    "name": "ipython",
    "version": 3
   },
   "file_extension": ".py",
   "mimetype": "text/x-python",
   "name": "python",
   "nbconvert_exporter": "python",
   "pygments_lexer": "ipython3",
   "version": "3.5.5"
  }
 },
 "nbformat": 4,
 "nbformat_minor": 0
}
